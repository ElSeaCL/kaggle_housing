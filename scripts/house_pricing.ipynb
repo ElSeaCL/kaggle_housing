{
 "cells": [
  {
   "cell_type": "markdown",
   "metadata": {},
   "source": [
    "# DESAFIO KAGGLE:\n",
    "# HOUSE PRICES\n",
    "\n",
    "Desafio consta de poder predecir el precio de las viviendas listadas el la base de datos (entregada como un archivo csv) mediante métodos avanzados de regresión.\n",
    "\n",
    "Se espera poder:\n",
    " - Aplicar técnicas de Feature Engineering.\n",
    " - Aplicar métodos avanzandos de regresión, random forest o gradiant boosting\n",
    "\n",
    "El link para la página de kaggle con todos los datos de ldesafía se encuentra [aqui](https://www.kaggle.com/c/house-prices-advanced-regression-techniques)"
   ]
  },
  {
   "cell_type": "code",
   "execution_count": null,
   "metadata": {},
   "outputs": [],
   "source": []
  }
 ],
 "metadata": {
  "kernelspec": {
   "display_name": "Python 3",
   "language": "python",
   "name": "python3"
  },
  "language_info": {
   "codemirror_mode": {
    "name": "ipython",
    "version": 3
   },
   "file_extension": ".py",
   "mimetype": "text/x-python",
   "name": "python",
   "nbconvert_exporter": "python",
   "pygments_lexer": "ipython3",
   "version": "3.7.4"
  }
 },
 "nbformat": 4,
 "nbformat_minor": 2
}
